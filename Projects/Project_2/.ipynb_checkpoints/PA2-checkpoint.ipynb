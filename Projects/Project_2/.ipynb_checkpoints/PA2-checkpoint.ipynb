{
 "cells": [
  {
   "cell_type": "code",
   "execution_count": 1,
   "metadata": {},
   "outputs": [],
   "source": [
    "'''\n",
    "In PA 2, you might finish the assignment with only built-in types of Python 3.\n",
    "However, one may choose to use higher level libraries such as numpy and scipy.\n",
    "Add your code below the TO-DO statement and include necessary import statements.\n",
    "'''\n",
    "\n",
    "import sys\n",
    "import csv"
   ]
  },
  {
   "cell_type": "code",
   "execution_count": 2,
   "metadata": {},
   "outputs": [],
   "source": [
    "def main():\n",
    "    \n",
    "    '''\n",
    "    Get the first command line argument of the program.\n",
    "    For example, sys.argv[1] could be a string such as 'breast_cancer.csv' or 'titanic_train.csv'\n",
    "    '''\n",
    "    # szDatasetPath = sys.argv[1]\n",
    "\t# Comment out the following line and uncomment the above line in your final submission\n",
    "    szDatasetPath = 'breast_cancer.csv'\n",
    "\n",
    "    '''\n",
    "    Read the data from the csv file\n",
    "    listColNames[j] stores the jth column name\n",
    "    listData[i][:-1] are the features of the ith example\n",
    "    listData[i][-1] is the target value of the ith example\n",
    "    '''\n",
    "    listColNames = [] # The list of column names \n",
    "    listData = [] # The list of feature vectors of all the examples\n",
    "    nRow = 0\n",
    "    with open(szDatasetPath) as csvFile:\n",
    "        csvReader = csv.reader(csvFile, delimiter=',')\n",
    "        for row in csvReader:\n",
    "            if 0 == nRow:\n",
    "                listColNames = row\n",
    "            else:\n",
    "                listData.append(row) # [X & Y]\n",
    "            nRow += 1\n",
    "\n",
    "    '''\n",
    "    Scan the data and store the unique values of each column.\n",
    "    listColUniqueVals[j] stores a list of unique values of the jth column\n",
    "    '''\n",
    "    listColUniqueVals = [[] for i in range(len(listColNames))]\n",
    "    for example in listData:\n",
    "        for i in range(len(example)):\n",
    "            if example[i] not in listColUniqueVals[i]:\n",
    "                listColUniqueVals[i].append(example[i])\n",
    "\n",
    "    "
   ]
  },
  {
   "cell_type": "code",
   "execution_count": null,
   "metadata": {},
   "outputs": [],
   "source": [
    "    # For each feature, compute the training error of a one-level decision tree\n",
    "    # TO-DO: add your code here\n",
    "    \n",
    "    \n",
    "    # Construct a full decision tree on the dataset and compute the training error\n",
    "    # TO-DO: add your code here\n",
    "\n",
    "    return None\n",
    "\n",
    "if __name__ == '__main__':\n",
    "\n",
    "    main()\n",
    "                                                                                "
   ]
  }
 ],
 "metadata": {
  "kernelspec": {
   "display_name": "Python 3",
   "language": "python",
   "name": "python3"
  },
  "language_info": {
   "codemirror_mode": {
    "name": "ipython",
    "version": 3
   },
   "file_extension": ".py",
   "mimetype": "text/x-python",
   "name": "python",
   "nbconvert_exporter": "python",
   "pygments_lexer": "ipython3",
   "version": "3.7.4"
  }
 },
 "nbformat": 4,
 "nbformat_minor": 2
}
