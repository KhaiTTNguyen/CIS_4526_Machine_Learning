{
 "cells": [
  {
   "cell_type": "code",
   "execution_count": 160,
   "metadata": {},
   "outputs": [],
   "source": [
    "import sys\n",
    "import csv\n",
    "import numpy\n",
    "import random\n",
    "from sklearn import tree\n",
    "from sklearn.preprocessing import OrdinalEncoder\n",
    "numpy.set_printoptions(threshold=sys.maxsize)"
   ]
  },
  {
   "cell_type": "code",
   "execution_count": 161,
   "metadata": {},
   "outputs": [],
   "source": [
    "def compute_error(test_y, pred_y):\n",
    "    comparison = (test_y == pred_y)\n",
    "    similar_count = 0\n",
    "\n",
    "    for i in range(len(comparison)):\n",
    "        if (comparison[i] == True):\n",
    "            similar_count = similar_count + 1 \n",
    "            \n",
    "    return 1 - similar_count/len(comparison)"
   ]
  },
  {
   "cell_type": "code",
   "execution_count": 163,
   "metadata": {},
   "outputs": [
    {
     "name": "stdout",
     "output_type": "stream",
     "text": [
      "Feature 0 has error: 0.32492997198879553\n",
      "Feature 1 has error: 0.21988795518207283\n",
      "Feature 2 has error: 0.4061624649859944\n",
      "Feature 3 has error: 0.4061624649859944\n",
      "Feature 4 has error: 0.3851540616246499\n",
      "Feature 5 has error: 0.38375350140056025\n",
      "Error for full decision tree: 0.2727272727272727\n"
     ]
    },
    {
     "data": {
      "image/png": "[encoded data removed]",
      "text/plain": [
       "<Figure size 432x288 with 1 Axes>"
      ]
     },
     "metadata": {
      "needs_background": "light"
     },
     "output_type": "display_data"
    }
   ],
   "source": [
    "def main():\n",
    "    \n",
    "    '''\n",
    "    Get the first command line argument of the program.\n",
    "    For example, sys.argv[1] could be a string such as 'breast_cancer.csv' or 'titanic_train.csv'\n",
    "    '''\n",
    "    szDatasetPath = sys.argv[1]\n",
    "\t# Comment out the following line and uncomment the above line in your final submission\n",
    "    # szDatasetPath = 'titanic_train.csv'\n",
    "\n",
    "    '''\n",
    "    Read the data from the csv file\n",
    "    listColNames[j] stores the jth column name\n",
    "    listData[i][:-1] are the features of the ith example\n",
    "    listData[i][-1] is the target value of the ith example\n",
    "    '''\n",
    "    listColNames = [] # The list of column names\n",
    "    listData = [] # The list of feature vectors of all the examples\n",
    "    nRow = 0\n",
    "    with open(szDatasetPath) as csvFile:\n",
    "        csvReader = csv.reader(csvFile, delimiter=',')\n",
    "        for row in csvReader:\n",
    "            if 0 == nRow:\n",
    "                listColNames = row\n",
    "            else:\n",
    "                listData.append(row)\n",
    "            nRow += 1\n",
    "\n",
    "    '''\n",
    "    Scan the data and store the unique values of each column.\n",
    "    listColUniqueVals[j] stores a list of unique values of the jth column\n",
    "    '''\n",
    "    listColUniqueVals = [[] for i in range(len(listColNames))]\n",
    "    for example in listData:\n",
    "        for i in range(len(example)):\n",
    "            if example[i] not in listColUniqueVals[i]:\n",
    "                listColUniqueVals[i].append(example[i])\n",
    "    \n",
    "    # -------------------------Part1: Compute the training error of a one-level decision tree--------------------------\n",
    "    # List of errors, 1 error / feature\n",
    "    features_errors = []\n",
    "    for col in range(len(listColNames)-1):\n",
    "        \n",
    "        current_error = 0\n",
    "        \n",
    "        # given the target only has 2 unique values\n",
    "        classify_array = numpy.zeros((len(listColUniqueVals[col]),2)) \n",
    "        \n",
    "        for row in range(len(listData)):\n",
    "            \n",
    "            for index_of_uniqueVal in range(len(listColUniqueVals[col])):        \n",
    "                if listData[row][col] == listColUniqueVals[col][index_of_uniqueVal]:\n",
    "                    if(listData[row][-1] == \"1\" or listData[row][-1] == \"recurrence-events\"):\n",
    "                        classify_array[index_of_uniqueVal][1] += 1\n",
    "                        \n",
    "                    else:\n",
    "                        classify_array[index_of_uniqueVal][0] += 1\n",
    "                        \n",
    "        for l in range(len(listColUniqueVals[col])):\n",
    "            current_error += min(classify_array[l])\n",
    "            \n",
    "        features_errors.append(current_error/len(listData))\n",
    "    \n",
    "    for col in range(len(listColNames)-1):\n",
    "        print(\"Feature\", col, \"has error:\", features_errors[col])\n",
    "    \n",
    "    # ------------------Part2: Construct a full decision tree on the dataset and compute the training error-------------------\n",
    "    # Convert strings to integers\n",
    "    feature_data_matrix = []\n",
    "    targetColumn = []\n",
    "    encoding = OrdinalEncoder()\n",
    "    listData_encoded = encoding.fit_transform(listData)\n",
    "\n",
    "    # random data\n",
    "    numpy.random.shuffle(listData_encoded)\n",
    "    sample_limit = int(len(listData) * 4 / 5)\n",
    "    \n",
    "    for i in range(len(listData_encoded)):\n",
    "        feature_data_matrix.append(listData_encoded[i][:-1])\n",
    "        targetColumn.append(listData_encoded[i][-1])\n",
    "    \n",
    "    # Initialize & construct tree using sklearn\n",
    "    pred_tree = tree.DecisionTreeClassifier()\n",
    "    pred_tree = pred_tree.fit(feature_data_matrix[:sample_limit],targetColumn[:sample_limit])\n",
    "    \n",
    "    # Predict & calculate error\n",
    "    pred_targetColumn = pred_tree.predict(feature_data_matrix[sample_limit:])\n",
    "    error = compute_error(targetColumn[sample_limit:],pred_targetColumn)\n",
    "    print(\"Error for full decision tree:\", error)\n",
    "    \n",
    "    # Display tree    \n",
    "    tree.plot_tree(pred_tree.fit(feature_data_matrix[:sample_limit],targetColumn[:sample_limit]))\n",
    "\n",
    "    \n",
    "    return None\n",
    "\n",
    "if __name__ == '__main__':\n",
    "\n",
    "    main()"
   ]
  },
  {
   "cell_type": "code",
   "execution_count": null,
   "metadata": {},
   "outputs": [],
   "source": []
  },
  {
   "cell_type": "code",
   "execution_count": null,
   "metadata": {},
   "outputs": [],
   "source": []
  }
 ],
 "metadata": {
  "kernelspec": {
   "display_name": "Python 3",
   "language": "python",
   "name": "python3"
  },
  "language_info": {
   "codemirror_mode": {
    "name": "ipython",
    "version": 3
   },
   "file_extension": ".py",
   "mimetype": "text/x-python",
   "name": "python",
   "nbconvert_exporter": "python",
   "pygments_lexer": "ipython3",
   "version": "3.7.4"
  }
 },
 "nbformat": 4,
 "nbformat_minor": 2
}
