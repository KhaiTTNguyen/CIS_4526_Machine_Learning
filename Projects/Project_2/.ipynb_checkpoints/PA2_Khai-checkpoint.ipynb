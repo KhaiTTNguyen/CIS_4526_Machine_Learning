{
 "cells": [
  {
   "cell_type": "code",
   "execution_count": 2,
   "metadata": {},
   "outputs": [],
   "source": [
    "import sys\n",
    "import csv\n",
    "import numpy"
   ]
  },
  {
   "cell_type": "code",
   "execution_count": 3,
   "metadata": {},
   "outputs": [
    {
     "name": "stdout",
     "output_type": "stream",
     "text": [
      "['30-34', '20-24', '15-19', '0-4', '25-29', '50-54', '14-Oct', '40-44', '35-39', '9-May', '45-49']\n",
      "[0.2972027972027972, 0.2972027972027972, 0.2972027972027972, 0.2727272727272727, 0.2762237762237762, 0.27972027972027974, 0.2972027972027972, 0.2937062937062937, 0.2972027972027972]\n"
     ]
    }
   ],
   "source": [
    "def main():\n",
    "    \n",
    "    '''\n",
    "    Get the first command line argument of the program.\n",
    "    For example, sys.argv[1] could be a string such as 'breast_cancer.csv' or 'titanic_train.csv'\n",
    "    '''\n",
    "    # szDatasetPath = sys.argv[1]\n",
    "\t# Comment out the following line and uncomment the above line in your final submission\n",
    "    szDatasetPath = 'breast_cancer.csv'\n",
    "\n",
    "    '''\n",
    "    Read the data from the csv file\n",
    "    listColNames[j] stores the jth column name\n",
    "    listData[i][:-1] are the features of the ith example\n",
    "    listData[i][-1] is the target value of the ith example\n",
    "    '''\n",
    "    listColNames = [] # The list of column names\n",
    "    listData = [] # The list of feature vectors of all the examples\n",
    "    nRow = 0\n",
    "    with open(szDatasetPath) as csvFile:\n",
    "        csvReader = csv.reader(csvFile, delimiter=',')\n",
    "        for row in csvReader:\n",
    "            if 0 == nRow:\n",
    "                listColNames = row\n",
    "            else:\n",
    "                listData.append(row)\n",
    "            nRow += 1\n",
    "\n",
    "    '''\n",
    "    Scan the data and store the unique values of each column.\n",
    "    listColUniqueVals[j] stores a list of unique values of the jth column\n",
    "    '''\n",
    "    listColUniqueVals = [[] for i in range(len(listColNames))]\n",
    "    for example in listData:\n",
    "        for i in range(len(example)):\n",
    "            if example[i] not in listColUniqueVals[i]:\n",
    "                listColUniqueVals[i].append(example[i])\n",
    "    \n",
    "    # For each feature, compute the training error of a one-level decision tree\n",
    "    # List of errors, 1 error / feature\n",
    "    features_error_rates = []\n",
    "    for i in range(len(listColNames)-1):\n",
    "        \n",
    "        current_missed_classified = 0\n",
    "        current_tree = numpy.zeros((len(listColUniqueVals[i]),2))\n",
    "        \n",
    "        for j in range(len(listData)):\n",
    "            for k in range(len(listColUniqueVals[i])):\n",
    "                \n",
    "                if listData[j][i] == listColUniqueVals[i][k]:  # listData[i][j]  \n",
    "                    if(listData[j][-1] == \"1\" or listData[j][-1] == \"recurrence-events\"):  # check last column - change recurrence to 0/1\n",
    "                        current_tree[k][1] += 1\n",
    "                        \n",
    "                    else:\n",
    "                        current_tree[k][0] += 1\n",
    "        # print(current_tree) \n",
    "        \n",
    "        for l in range(len(listColUniqueVals[i])):\n",
    "            current_missed_classified += min(current_tree[l])\n",
    "            \n",
    "        features_error_rates.append(current_missed_classified/len(listData))\n",
    "        \n",
    "    print(features_error_rates)    \n",
    "\n",
    "    # Construct a full decision tree on the dataset and compute the training error\n",
    "    \n",
    "\n",
    "    return None\n",
    "\n",
    "if __name__ == '__main__':\n",
    "\n",
    "    main()"
   ]
  },
  {
   "cell_type": "code",
   "execution_count": null,
   "metadata": {},
   "outputs": [],
   "source": []
  }
 ],
 "metadata": {
  "kernelspec": {
   "display_name": "Python 3",
   "language": "python",
   "name": "python3"
  },
  "language_info": {
   "codemirror_mode": {
    "name": "ipython",
    "version": 3
   },
   "file_extension": ".py",
   "mimetype": "text/x-python",
   "name": "python",
   "nbconvert_exporter": "python",
   "pygments_lexer": "ipython3",
   "version": "3.7.4"
  }
 },
 "nbformat": 4,
 "nbformat_minor": 2
}
